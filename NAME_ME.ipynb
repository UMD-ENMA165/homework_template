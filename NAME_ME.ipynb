{
 "cells": [
  {
   "cell_type": "markdown",
   "id": "a57532ae-cd7d-4b2a-9edb-eb83a8f3a09b",
   "metadata": {},
   "source": [
    "**Content under Creative Commons Attribution license [CC-BY 4.0](LICENSE/CC-BY-4.0.md); Code licensed under [BSD 3-Clause Clear](LICENSE/BSD3CLAUSE.md) © 2023 Jonathan E. Guyer**\n",
    "\n",
    "**Student submissions licensed under [UMD Academic License](LICENSE/UMDACADEMIC.md) © 2023 *YOUR NAME HERE***"
   ]
  },
  {
   "cell_type": "markdown",
   "id": "2e89d5d8-05cd-48d2-9407-272d31e844ab",
   "metadata": {},
   "source": [
    "# ***???Title???*** (100 points total)"
   ]
  },
  {
   "cell_type": "markdown",
   "id": "51784a31-98f1-475a-bee6-5ea3b9491d86",
   "metadata": {},
   "source": [
    "Enter your solution in the cell(s) below each question. "
   ]
  },
  {
   "cell_type": "markdown",
   "id": "e198eec2-1757-4fc4-a7f2-82d18a5f8ab9",
   "metadata": {},
   "source": [
    "**Q1** (20 points)\n",
    "\n",
    "Some text\n",
    "```python\n",
    "def some_code():\n",
    "    pass\n",
    "```"
   ]
  },
  {
   "cell_type": "markdown",
   "id": "ff835bd1-3b0e-433c-99ff-bab3f3536719",
   "metadata": {},
   "source": [
    "**Q2** (20 points total)\n",
    "\n",
    "**Q2a)** (6 points) "
   ]
  },
  {
   "cell_type": "markdown",
   "id": "8e020180-a0ed-4042-a8ed-0d71dcc8b41b",
   "metadata": {},
   "source": []
  },
  {
   "cell_type": "markdown",
   "id": "862311a5-b438-410a-ab6d-a9df47b34f7c",
   "metadata": {},
   "source": [
    "**Q2b)** (7 points) "
   ]
  },
  {
   "cell_type": "code",
   "execution_count": null,
   "id": "32a7a996-1b4a-4e83-837a-a804bff7f613",
   "metadata": {},
   "outputs": [],
   "source": []
  },
  {
   "cell_type": "markdown",
   "id": "90918b3f-25bf-487f-b19e-4eeefadb93d3",
   "metadata": {},
   "source": [
    "**Q2c)** (6 points)"
   ]
  },
  {
   "cell_type": "markdown",
   "id": "ab1c231f-85a7-451f-9fa1-8626171d7c47",
   "metadata": {},
   "source": []
  },
  {
   "cell_type": "markdown",
   "id": "eea94f25-547d-408a-9515-f01a97cfbca2",
   "metadata": {},
   "source": [
    "**Q3** (20 points total)\n",
    "\n",
    "**Q3a)** (10 points) "
   ]
  },
  {
   "cell_type": "markdown",
   "id": "369b3ea5-c619-4cec-8ab0-b5c095cc7066",
   "metadata": {},
   "source": []
  },
  {
   "cell_type": "markdown",
   "id": "097fbd16-bd55-47fa-be0e-807951343983",
   "metadata": {},
   "source": [
    "**Q3b)** (10 points)"
   ]
  },
  {
   "cell_type": "markdown",
   "id": "dfe14f56-dd02-421b-95e8-c10e80bb13c3",
   "metadata": {},
   "source": []
  },
  {
   "cell_type": "markdown",
   "id": "de6f4465-c242-49bd-a8e7-55c8e7e92bd4",
   "metadata": {},
   "source": [
    "**Q4** (20 points total)\n",
    "\n",
    "**Q4a)** (10 points)"
   ]
  },
  {
   "cell_type": "markdown",
   "id": "338677f9-da33-4744-bb51-a05bb04510ac",
   "metadata": {},
   "source": []
  },
  {
   "cell_type": "markdown",
   "id": "910c2c03-0863-479b-a82d-1b38b0d2eea6",
   "metadata": {},
   "source": [
    "**Q4b)** (10 points)"
   ]
  },
  {
   "cell_type": "code",
   "execution_count": null,
   "id": "aa8f7b8a-74f2-416c-8491-85e069b1fb3a",
   "metadata": {},
   "outputs": [],
   "source": []
  },
  {
   "cell_type": "markdown",
   "id": "ec4afce3-6e26-45ce-b716-15d1a5512ae7",
   "metadata": {},
   "source": [
    "**Q5** (20 points total; 2 points for each correct answer/explanation)\n",
    "\n",
    "**(a)**\n",
    "\n",
    "**(b)**\n",
    "\n",
    "**(c)**\n",
    "\n",
    "**(d)**\n",
    "\n",
    "**(e)**\n",
    "\n",
    "**(f)**\n",
    "\n",
    "**(g)**\n",
    "\n",
    "**(h)**\n",
    "\n",
    "**(i)**\n",
    "\n",
    "**(j)**\n"
   ]
  },
  {
   "cell_type": "code",
   "execution_count": null,
   "id": "2da2ae8c-5704-4fe9-835d-60b3e29d6fd7",
   "metadata": {},
   "outputs": [],
   "source": []
  }
 ],
 "metadata": {
  "kernelspec": {
   "display_name": "Python 3 (ipykernel)",
   "language": "python",
   "name": "python3"
  },
  "language_info": {
   "codemirror_mode": {
    "name": "ipython",
    "version": 3
   },
   "file_extension": ".py",
   "mimetype": "text/x-python",
   "name": "python",
   "nbconvert_exporter": "python",
   "pygments_lexer": "ipython3",
   "version": "3.9.13"
  }
 },
 "nbformat": 4,
 "nbformat_minor": 5
}
